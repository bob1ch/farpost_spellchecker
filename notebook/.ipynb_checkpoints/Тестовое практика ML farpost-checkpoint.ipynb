{
 "cells": [
  {
   "cell_type": "markdown",
   "id": "d2153d57-3a8e-4a3d-8749-8b1f496238f4",
   "metadata": {
    "tags": []
   },
   "source": [
    "### 0. Расстояние Левенштейна\n",
    "\n",
    "Моя реализация алгоритма коррекции на основе расстояния ливенштейна\n",
    "\n",
    "Работает медленно, косо, криво и требуется более детального изучения вопроса, поэтому не будем изобретать велосипед,\n",
    "продемонстрируем работу и пойдем к следующему пункту"
   ]
  },
  {
   "cell_type": "code",
   "execution_count": 16,
   "id": "4caa0f55-3438-4f77-a8db-c9f89b014986",
   "metadata": {},
   "outputs": [],
   "source": [
    "#!pip install Levenshtein"
   ]
  },
  {
   "cell_type": "code",
   "execution_count": 7,
   "id": "c881b568-1a13-45e5-9792-bf9ddacdfb39",
   "metadata": {},
   "outputs": [],
   "source": [
    "import numpy as np\n",
    "import requests\n",
    "from Levenshtein import distance"
   ]
  },
  {
   "cell_type": "code",
   "execution_count": 8,
   "id": "1d50d5f8-00db-47bf-b250-bcd024eece4a",
   "metadata": {},
   "outputs": [],
   "source": [
    "response = requests.get('https://raw.githubusercontent.com/danakt/russian-words/master/russian.txt')\n",
    "\n",
    "text = response.content.decode('cp1251')\n",
    "\n",
    "with open('russian.txt', 'wb') as ru:\n",
    "    ru.write(text.encode('utf-8'))"
   ]
  },
  {
   "cell_type": "code",
   "execution_count": 11,
   "id": "667d353e-4544-4469-903b-07fcda9edbd1",
   "metadata": {},
   "outputs": [],
   "source": [
    "with open('russian.txt', encoding=\"utf-8\") as file_in:\n",
    "    dictionary = np.array([word.strip() for word in file_in.readlines()])"
   ]
  },
  {
   "cell_type": "code",
   "execution_count": 12,
   "id": "57ed335b-88b3-43e7-829a-34901786679c",
   "metadata": {},
   "outputs": [],
   "source": [
    "def get_candidates(word, dictionary):\n",
    "    \n",
    "    if len(word) == 1:\n",
    "        print(f'Потеницальные кандидаты: {word} \\nРасстояние Левенштейна = 0')\n",
    "        return None\n",
    "    \n",
    "    distance_list = np.array([distance(user_word, word) for word in dictionary])\n",
    "    lev_dist = distance_list.min()\n",
    "\n",
    "    print(f'Потеницальные кандидаты: {dictionary[np.argwhere(distance_list == lev_dist)].T} \\nРасстояние Левенштейна = {lev_dist}')"
   ]
  },
  {
   "cell_type": "code",
   "execution_count": 13,
   "id": "20633825-4c1a-4820-a0ea-338cf39e5a35",
   "metadata": {},
   "outputs": [
    {
     "name": "stdin",
     "output_type": "stream",
     "text": [
      " сабака\n"
     ]
    },
    {
     "name": "stdout",
     "output_type": "stream",
     "text": [
      "Потеницальные кандидаты: [['абака' 'кабака' 'салака' 'слабака' 'собака' 'табака']] \n",
      "Расстояние Левенштейна = 1\n"
     ]
    }
   ],
   "source": [
    "user_document = input()\n",
    "for user_word in user_document.split():\n",
    "    get_candidates(user_word, dictionary)"
   ]
  },
  {
   "cell_type": "markdown",
   "id": "bc5c5e33-2123-4a4c-ba7d-a2d79f1968fb",
   "metadata": {
    "tags": []
   },
   "source": [
    "### 1. Использование готового спеллчекера\n",
    "\n",
    "Например это может быть pyspellchecker\n",
    "\n",
    "из плюсов можно выделить поддержку русского языка из коробки"
   ]
  },
  {
   "cell_type": "code",
   "execution_count": 17,
   "id": "6a7cdaa5-64d3-42a3-b145-f8b1e1b2d4e8",
   "metadata": {},
   "outputs": [],
   "source": [
    "#!pip install pyspellchecker"
   ]
  },
  {
   "cell_type": "code",
   "execution_count": 18,
   "id": "d779fc5a-527d-4d2c-9fb9-43aff1406f1e",
   "metadata": {},
   "outputs": [
    {
     "name": "stdout",
     "output_type": "stream",
     "text": [
      "dog\n",
      "{'dong', 'doggy', 'dog', 'dogs', 'doggo', 'doge'}\n"
     ]
    }
   ],
   "source": [
    "from spellchecker import SpellChecker\n",
    "\n",
    "spell = SpellChecker()\n",
    "#document = ['Henlo', 'worldd', 'here', 'ss', 'farpost']\n",
    "document = ['dogg']\n",
    "misspelled = spell.unknown(document)\n",
    "\n",
    "#answer = list()\n",
    "for word in misspelled:\n",
    "    # Get the one `most likely` answer\n",
    "    print(spell.correction(word))\n",
    "\n",
    "    # Get a list of `likely` options\n",
    "    print(spell.candidates(word))"
   ]
  },
  {
   "cell_type": "markdown",
   "id": "e823de00-0f8d-408c-a676-ae6bedea3dbe",
   "metadata": {},
   "source": [
    "Получилось **что-то** и это **что-то** заработало\n",
    "\n",
    "Сам алгоритм такого спеллчекинга был описан в этой [статье](https://norvig.com/spell-correct.html) Питером Норвигом, действующим\n",
    "директором Гугл.\n",
    "\n",
    "Этот алгоритм работает действительно хорошо, но попробуем сделать более интересную вещь и решить задау иначе..."
   ]
  },
  {
   "cell_type": "markdown",
   "id": "d0c1b330-f125-44f1-b7cc-a285e6269521",
   "metadata": {
    "tags": []
   },
   "source": [
    "### 2. Обучение машин"
   ]
  },
  {
   "cell_type": "code",
   "execution_count": 4,
   "id": "04fec53a-88f0-41e0-b806-f08b4609ab44",
   "metadata": {
    "scrolled": true
   },
   "outputs": [
    {
     "name": "stdout",
     "output_type": "stream",
     "text": [
      "Requirement already satisfied: sentencepiece in c:\\users\\bobich\\appdata\\local\\programs\\python\\python312\\lib\\site-packages (0.2.0)\n"
     ]
    }
   ],
   "source": [
    "#!pip install transformers\n",
    "#!pip install torch torchvision torchaudio\n",
    "#!pip install transformers[sentencepiece]\n",
    "#!pip install sentencepiece"
   ]
  },
  {
   "cell_type": "code",
   "execution_count": 4,
   "id": "dc272c8a-eccf-4fcd-b815-cacdaba5a90f",
   "metadata": {},
   "outputs": [],
   "source": [
    "#https://huggingface.co/ai-forever/RuM2M100-1.2B"
   ]
  },
  {
   "cell_type": "code",
   "execution_count": 6,
   "id": "a642e6ef-8f10-4dd8-90e4-8da11ea4a047",
   "metadata": {},
   "outputs": [
    {
     "name": "stdout",
     "output_type": "stream",
     "text": [
      "['собака']\n"
     ]
    }
   ],
   "source": [
    "from transformers import M2M100ForConditionalGeneration, M2M100Tokenizer\n",
    "\n",
    "path_to_model = \"ai-forever/RuM2M100-1.2B\"\n",
    "\n",
    "model = M2M100ForConditionalGeneration.from_pretrained(path_to_model)\n",
    "tokenizer = M2M100Tokenizer.from_pretrained(path_to_model, src_lang=\"ru\", tgt_lang=\"ru\")\n",
    "\n",
    "sentence = \"сабака\"\n",
    "\n",
    "encodings = tokenizer(sentence, return_tensors=\"pt\")\n",
    "generated_tokens = model.generate(\n",
    "        **encodings, forced_bos_token_id=tokenizer.get_lang_id(\"ru\"))\n",
    "answer = tokenizer.batch_decode(generated_tokens, skip_special_tokens=True)\n",
    "print(answer)\n",
    "\n",
    "#[\"прийдя в МГТУ я был удивлен никого не обнаружив там...\"]"
   ]
  }
 ],
 "metadata": {
  "kernelspec": {
   "display_name": "Python 3 (ipykernel)",
   "language": "python",
   "name": "python3"
  },
  "language_info": {
   "codemirror_mode": {
    "name": "ipython",
    "version": 3
   },
   "file_extension": ".py",
   "mimetype": "text/x-python",
   "name": "python",
   "nbconvert_exporter": "python",
   "pygments_lexer": "ipython3",
   "version": "3.12.2"
  }
 },
 "nbformat": 4,
 "nbformat_minor": 5
}
